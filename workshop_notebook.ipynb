{
 "cells": [
  {
   "cell_type": "markdown",
   "metadata": {
    "colab_type": "text",
    "id": "tYQ6Lh11LFkP"
   },
   "source": [
    "# WEBINAR - Przetwarzanie języka naturalnego, 16 lipca 2020\n",
    "\n",
    "SAGES - NLP masterclass\n",
    "\n",
    "Łukasz Kobyliński, Ryszard Tuora\n",
    "\n",
    "\n",
    "2 modele do języka polskiego w spaCy:\n",
    "\n",
    "IPI PAN - bardziej rozbudowany, wolniejszy, bardziej złożona instalacja - http://zil.ipipan.waw.pl/SpacyPL\n",
    "\n",
    "model oficjalny - prostszy, znacznie szybszy, prosta instalacja - https://spacy.io/models/pl\n",
    "\n",
    "model IPI PAN dla języka polskiego\n",
    "\n",
    "składa się z:\n",
    "- taggera morfosyntaktycznego\n",
    "- lematyzatora\n",
    "- parsera zależnościowego\n",
    "- komponentu NER\n",
    "- flexera (komponentu do fleksji)"
   ]
  },
  {
   "cell_type": "code",
   "execution_count": null,
   "metadata": {
    "colab": {},
    "colab_type": "code",
    "id": "RprQFxeM4zas"
   },
   "outputs": [],
   "source": [
    "# Przygotowanie środowiska, komendy linux\n",
    "# instalacja Morfeusza 2\n",
    "!wget -O - http://download.sgjp.pl/apt/sgjp.gpg.key|sudo apt-key add -\n",
    "!sudo apt-add-repository http://download.sgjp.pl/apt/ubuntu\n",
    "!sudo apt update\n",
    "!sudo apt install morfeusz2\n",
    "!sudo apt install python3-morfeusz2\n",
    "\n",
    "\n",
    "# instalacja spaCy\n",
    "\n",
    "!python3 -m pip install spacy\n",
    "\n",
    "# 1. instalacja modelu IPI PAN dla języka polskiego\n",
    "!wget \"http://zil.ipipan.waw.pl/SpacyPL?action=AttachFile&do=get&target=pl_spacy_model_morfeusz-0.1.0.tar.gz\"\n",
    "!mv 'SpacyPL?action=AttachFile&do=get&target=pl_spacy_model_morfeusz-0.1.0.tar.gz' pl_spacy_model_morfeusz-0.1.0.tar.gz\n",
    "!python3 -m pip install pl_spacy_model_morfeusz-0.1.0.tar.gz\n",
    "\n",
    "# linkowanie modelu do spaCy\n",
    "!python3 -m spacy link pl_spacy_model_morfeusz pl_spacy_model_morfeusz -f\n",
    "\n",
    "# 2. instalacja oficjalnego modelu spaCy\n",
    "#!python3 -m spacy download pl_core_news_lg # wymaga spacy 2.3.0\n",
    "\n",
    "# dodatkowe zależności:\n",
    "!python3 -m pip install tqdm"
   ]
  },
  {
   "cell_type": "code",
   "execution_count": 1,
   "metadata": {
    "colab": {},
    "colab_type": "code",
    "id": "PtEk9Bt0N3u1"
   },
   "outputs": [],
   "source": [
    "### PYTHON 3\n",
    "import keras\n",
    "# ładowanie modelu\n",
    "import spacy\n",
    "\n",
    "nlp = spacy.load(\"pl_spacy_model_morfeusz\")\n",
    "#nlp = spacy.load(\"pl_core_news_lg\")"
   ]
  },
  {
   "cell_type": "markdown",
   "metadata": {
    "colab_type": "text",
    "id": "zquQAX2HGVpg"
   },
   "source": [
    "# Część zero - Tokenizacja i reprezentacja tekstów\n",
    "\n",
    "Wejściem do modelu są łańcuchy tekstowe (stringi), na wyjściu dostajemy obiekt reprezentujący struktury wykryte w tekście. Pierwszym krokiem który musi być wykonany aby przetworztć tekst, jest tokenizacja, czyli podział tekstu na tokeny/segmenty. Tokeny w większości przypadków odpowiadają słowom \"od spacji do spacji\". Ale warto zwrócić uwagę na kilka przypadków odstających od takiej prostej reguły.\n",
    "\n",
    "Wynikiem potoku spaCy jest obiekt Doc, który składa się z obiektów Token."
   ]
  },
  {
   "cell_type": "code",
   "execution_count": 2,
   "metadata": {
    "colab": {},
    "colab_type": "code",
    "id": "OrMbeDcfHIvu"
   },
   "outputs": [
    {
     "name": "stdout",
     "output_type": "stream",
     "text": [
      "spaCy          .split()\n",
      "\n",
      "Chciał          Chciałby,      \n",
      "by              żebym          \n",
      ",               pojechał       \n",
      "żeby            do             \n",
      "m               miasta         \n",
      "pojechał        z              \n",
      "do              zielono-żółto-białą\n",
      "miasta          flagą          \n",
      "z               (np.           \n",
      "zielono         Zielonej       \n",
      "-               Góry).         \n",
      "żółto                          \n",
      "-                              \n",
      "białą                          \n",
      "flagą                          \n",
      "(                              \n",
      "np                             \n",
      ".                              \n",
      "Zielonej                       \n",
      "Góry                           \n",
      ")                              \n",
      ".                              \n"
     ]
    }
   ],
   "source": [
    "txt = \"Chciałby, żebym pojechał do miasta z zielono-żółto-białą flagą (np. Zielonej Góry).\"\n",
    "split = txt.split()\n",
    "doc = nlp(txt)\n",
    "print(\"spaCy          .split()\\n\")\n",
    "for i in range(max([len(split), len(doc)])):\n",
    "  try:\n",
    "    tok1 = doc[i]\n",
    "  except IndexError:\n",
    "    tok1 = \"\"\n",
    "  try:\n",
    "    tok2 = split[i]\n",
    "  except IndexError:\n",
    "    tok2 = \"\"\n",
    "  print(\"{0:15} {1:15}\".format(tok1.orth_, tok2))"
   ]
  },
  {
   "cell_type": "markdown",
   "metadata": {},
   "source": [
    "spaCy pozwala na zapisywanie przetworzonych dokumentów w formacie JSON"
   ]
  },
  {
   "cell_type": "code",
   "execution_count": 3,
   "metadata": {},
   "outputs": [
    {
     "name": "stdout",
     "output_type": "stream",
     "text": [
      "{\n",
      "  \"text\": \"Chciałby, żebym pojechał do miasta z zielono-żółto-białą flagą (np. Zielonej Góry).\",\n",
      "  \"ents\": [\n",
      "    {\n",
      "      \"start\": 68,\n",
      "      \"end\": 81,\n",
      "      \"label\": \"placeName\"\n",
      "    }\n",
      "  ],\n",
      "  \"sents\": [\n",
      "    {\n",
      "      \"start\": 0,\n",
      "      \"end\": 83\n",
      "    }\n",
      "  ],\n",
      "  \"tokens\": [\n",
      "    {\n",
      "      \"id\": 0,\n",
      "      \"start\": 0,\n",
      "      \"end\": 6,\n",
      "      \"pos\": \"VERB\",\n",
      "      \"tag\": \"praet\",\n",
      "      \"dep\": \"ROOT\",\n",
      "      \"head\": 0\n",
      "    },\n",
      "    {\n",
      "      \"id\": 1,\n",
      "      \"start\": 6,\n",
      "      \"end\": 8,\n",
      "      \"pos\": \"PART\",\n",
      "      \"tag\": \"qub\",\n",
      "      \"dep\": \"aux:cnd\",\n",
      "      \"head\": 0\n",
      "    },\n",
      "    {\n",
      "      \"id\": 2,\n",
      "      \"start\": 8,\n",
      "      \"end\": 9,\n",
      "      \"pos\": \"PUNCT\",\n",
      "      \"tag\": \"interp\",\n",
      "      \"dep\": \"punct\",\n",
      "      \"head\": 5\n",
      "    },\n",
      "    {\n",
      "      \"id\": 3,\n",
      "      \"start\": 10,\n",
      "      \"end\": 14,\n",
      "      \"pos\": \"SCONJ\",\n",
      "      \"tag\": \"comp\",\n",
      "      \"dep\": \"mark\",\n",
      "      \"head\": 5\n",
      "    },\n",
      "    {\n",
      "      \"id\": 4,\n",
      "      \"start\": 14,\n",
      "      \"end\": 15,\n",
      "      \"pos\": \"AUX\",\n",
      "      \"tag\": \"aglt\",\n",
      "      \"dep\": \"aux:clitic\",\n",
      "      \"head\": 5\n",
      "    },\n",
      "    {\n",
      "      \"id\": 5,\n",
      "      \"start\": 16,\n",
      "      \"end\": 24,\n",
      "      \"pos\": \"VERB\",\n",
      "      \"tag\": \"praet\",\n",
      "      \"dep\": \"ccomp\",\n",
      "      \"head\": 0\n",
      "    },\n",
      "    {\n",
      "      \"id\": 6,\n",
      "      \"start\": 25,\n",
      "      \"end\": 27,\n",
      "      \"pos\": \"ADP\",\n",
      "      \"tag\": \"prep\",\n",
      "      \"dep\": \"case\",\n",
      "      \"head\": 7\n",
      "    },\n",
      "    {\n",
      "      \"id\": 7,\n",
      "      \"start\": 28,\n",
      "      \"end\": 34,\n",
      "      \"pos\": \"NOUN\",\n",
      "      \"tag\": \"subst\",\n",
      "      \"dep\": \"obl\",\n",
      "      \"head\": 5\n",
      "    },\n",
      "    {\n",
      "      \"id\": 8,\n",
      "      \"start\": 35,\n",
      "      \"end\": 36,\n",
      "      \"pos\": \"ADP\",\n",
      "      \"tag\": \"prep\",\n",
      "      \"dep\": \"case\",\n",
      "      \"head\": 14\n",
      "    },\n",
      "    {\n",
      "      \"id\": 9,\n",
      "      \"start\": 37,\n",
      "      \"end\": 44,\n",
      "      \"pos\": \"ADJ\",\n",
      "      \"tag\": \"adja\",\n",
      "      \"dep\": \"amod\",\n",
      "      \"head\": 14\n",
      "    },\n",
      "    {\n",
      "      \"id\": 10,\n",
      "      \"start\": 44,\n",
      "      \"end\": 45,\n",
      "      \"pos\": \"PUNCT\",\n",
      "      \"tag\": \"interp\",\n",
      "      \"dep\": \"punct\",\n",
      "      \"head\": 11\n",
      "    },\n",
      "    {\n",
      "      \"id\": 11,\n",
      "      \"start\": 45,\n",
      "      \"end\": 50,\n",
      "      \"pos\": \"ADJ\",\n",
      "      \"tag\": \"adja\",\n",
      "      \"dep\": \"conj\",\n",
      "      \"head\": 9\n",
      "    },\n",
      "    {\n",
      "      \"id\": 12,\n",
      "      \"start\": 50,\n",
      "      \"end\": 51,\n",
      "      \"pos\": \"PUNCT\",\n",
      "      \"tag\": \"interp\",\n",
      "      \"dep\": \"punct\",\n",
      "      \"head\": 13\n",
      "    },\n",
      "    {\n",
      "      \"id\": 13,\n",
      "      \"start\": 51,\n",
      "      \"end\": 56,\n",
      "      \"pos\": \"ADJ\",\n",
      "      \"tag\": \"adj\",\n",
      "      \"dep\": \"conj\",\n",
      "      \"head\": 9\n",
      "    },\n",
      "    {\n",
      "      \"id\": 14,\n",
      "      \"start\": 57,\n",
      "      \"end\": 62,\n",
      "      \"pos\": \"NOUN\",\n",
      "      \"tag\": \"subst\",\n",
      "      \"dep\": \"obl\",\n",
      "      \"head\": 5\n",
      "    },\n",
      "    {\n",
      "      \"id\": 15,\n",
      "      \"start\": 63,\n",
      "      \"end\": 64,\n",
      "      \"pos\": \"PUNCT\",\n",
      "      \"tag\": \"interp\",\n",
      "      \"dep\": \"punct\",\n",
      "      \"head\": 19\n",
      "    },\n",
      "    {\n",
      "      \"id\": 16,\n",
      "      \"start\": 64,\n",
      "      \"end\": 66,\n",
      "      \"pos\": \"X\",\n",
      "      \"tag\": \"brev\",\n",
      "      \"dep\": \"parataxis:insert\",\n",
      "      \"head\": 19\n",
      "    },\n",
      "    {\n",
      "      \"id\": 17,\n",
      "      \"start\": 66,\n",
      "      \"end\": 67,\n",
      "      \"pos\": \"PUNCT\",\n",
      "      \"tag\": \"interp\",\n",
      "      \"dep\": \"punct\",\n",
      "      \"head\": 16\n",
      "    },\n",
      "    {\n",
      "      \"id\": 18,\n",
      "      \"start\": 68,\n",
      "      \"end\": 76,\n",
      "      \"pos\": \"ADJ\",\n",
      "      \"tag\": \"adj\",\n",
      "      \"dep\": \"amod:flat\",\n",
      "      \"head\": 19\n",
      "    },\n",
      "    {\n",
      "      \"id\": 19,\n",
      "      \"start\": 77,\n",
      "      \"end\": 81,\n",
      "      \"pos\": \"NOUN\",\n",
      "      \"tag\": \"subst\",\n",
      "      \"dep\": \"nmod\",\n",
      "      \"head\": 14\n",
      "    },\n",
      "    {\n",
      "      \"id\": 20,\n",
      "      \"start\": 81,\n",
      "      \"end\": 82,\n",
      "      \"pos\": \"PUNCT\",\n",
      "      \"tag\": \"interp\",\n",
      "      \"dep\": \"punct\",\n",
      "      \"head\": 19\n",
      "    },\n",
      "    {\n",
      "      \"id\": 21,\n",
      "      \"start\": 82,\n",
      "      \"end\": 83,\n",
      "      \"pos\": \"PUNCT\",\n",
      "      \"tag\": \"interp\",\n",
      "      \"dep\": \"punct\",\n",
      "      \"head\": 0\n",
      "    }\n",
      "  ]\n",
      "}\n"
     ]
    }
   ],
   "source": [
    "import json\n",
    "\n",
    "doc_json = doc.to_json()\n",
    "json_string = json.dumps(doc_json, indent=2, ensure_ascii=False)\n",
    "print(json_string)"
   ]
  },
  {
   "cell_type": "markdown",
   "metadata": {
    "colab_type": "text",
    "id": "_4a5Izt4Tsae"
   },
   "source": [
    "# Część pierwsza - podobieństwo w języku\n",
    "Sercem modelu jest reprezentacja wektorowa słów, 500 tys. wektorów wyekstrahowanych z embeddingów word2vec KGR10."
   ]
  },
  {
   "cell_type": "markdown",
   "metadata": {
    "colab_type": "text",
    "id": "kwvGXnaON7CB"
   },
   "source": [
    "###Bardzo popularny przykład \"arytmetyki słów\":\n",
    "znaczenie słów jest reprezentowane przez wektory, dla których mamy zdefiniowane operacje matematyczne. Możemy więc odjąć od znaczenia słowa \"królowa\", znaczenie słowa \"kobieta\", i dodać doń znaczenie słowa \"mężczyzna\", licząc iż wektor będący wynikiem takiego działania odpowiada słowu \"król\". W praktyce wektor taki najprawdopodobniej nie ma interpretacji, ale możemy znaleźć najbliższy wektor który ma jakąkolwiek interpretację przeszukując słownik."
   ]
  },
  {
   "cell_type": "code",
   "execution_count": 23,
   "metadata": {},
   "outputs": [],
   "source": [
    "# od wersji 2.3 wektory są ładowane \"leniwie\"\n",
    "# musimy więc najpierw wymusić załadowanie wszystkich wektorów\n",
    "\n",
    "for s in nlp.vocab.vectors:\n",
    "    _ = nlp.vocab[s]"
   ]
  },
  {
   "cell_type": "code",
   "execution_count": 24,
   "metadata": {
    "colab": {},
    "colab_type": "code",
    "id": "Jb9ZXk4a8ety"
   },
   "outputs": [
    {
     "name": "stdout",
     "output_type": "stream",
     "text": [
      "['książę', 'król', 'królewicz', 'monarcha', 'hrabia', 'władca', 'Książę', 'arcyksiążę', 'książe', 'Arcyksiążę']\n"
     ]
    }
   ],
   "source": [
    "from scipy import spatial\n",
    " \n",
    "cosine_similarity = lambda x, y: 1 - spatial.distance.cosine(x, y)\n",
    " \n",
    "man = nlp.vocab['mężczyzna'].vector\n",
    "woman = nlp.vocab['kobieta'].vector\n",
    "queen = nlp.vocab['królowa'].vector\n",
    "king = nlp.vocab['król'].vector\n",
    " \n",
    "\n",
    "maybe_king = man - woman + queen\n",
    "computed_similarities = []\n",
    " \n",
    "for word in nlp.vocab:\n",
    "    # Ignore words without vectors\n",
    "    if not word.has_vector:\n",
    "        continue\n",
    " \n",
    "    similarity = cosine_similarity(maybe_king, word.vector)\n",
    "    computed_similarities.append((word, similarity))\n",
    " \n",
    "computed_similarities = sorted(computed_similarities, key=lambda item: -item[1])\n",
    "print([w[0].text for w in computed_similarities[:10]])"
   ]
  },
  {
   "cell_type": "code",
   "execution_count": 25,
   "metadata": {
    "colab": {},
    "colab_type": "code",
    "id": "mXJB6l6IIRJX"
   },
   "outputs": [
    {
     "name": "stdout",
     "output_type": "stream",
     "text": [
      "pies vs. psami -> 0.6705560088157654\n",
      "pies vs. zwierzę -> 0.684103786945343\n",
      "pies vs. buldog -> 0.8052963018417358\n",
      "pies vs. obroża -> 0.5760606527328491\n",
      "pies vs. smycz -> 0.5837645530700684\n",
      "pies vs. marchewka -> 0.4573368728160858\n",
      "pies vs. słońce -> 0.2709254324436188\n"
     ]
    }
   ],
   "source": [
    "w1 = \"pies\"\n",
    "w2 = \"psami\"\n",
    "w3 = \"zwierzę\"\n",
    "w4 = \"buldog\"\n",
    "w5 = \"obroża\"\n",
    "w6 = \"smycz\"\n",
    "w7 = \"marchewka\"\n",
    "w8 = \"słońce\"\n",
    "\n",
    "def similarity(w1, w2):\n",
    "  w1_lex = nlp.vocab[w1]\n",
    "  w2_lex = nlp.vocab[w2]\n",
    "  if w1_lex.has_vector and w2_lex.has_vector:\n",
    "    sim = w1_lex.similarity(w2_lex)\n",
    "    print(\"{} vs. {} -> {}\".format(w1, w2, sim))\n",
    "  else:\n",
    "    print(\"Jedno ze słów nie ma reprezentacji wektorowej.\")\n",
    "for w in [w2, w3, w4, w5, w6, w7, w8]:\n",
    "  similarity(w1, w)"
   ]
  },
  {
   "cell_type": "markdown",
   "metadata": {
    "colab_type": "text",
    "id": "_SKbMLgI7GKd"
   },
   "source": [
    "## Zadanie 1:\n",
    "\n",
    "nlp.vocab może być traktowany jako iterator (stanowi słownik, choć nie wszystkim słowom przypisane są wektory). Napisz funkcję thesaurus(word) która dla podanego słowa znajduje dziesięć najbardziej podobnych słów. Pamiętaj o złożoności obliczeniowej sortowania! \n",
    "\n",
    "Możesz wykorzystać lematyzację, oraz tagowanie morfosyntaktyczne, by pozbyć się zbędnych słów."
   ]
  },
  {
   "cell_type": "markdown",
   "metadata": {
    "colab_type": "text",
    "id": "zMw2hDepJ9EM"
   },
   "source": [
    "###spaCy umożliwia liczenie podobieństwa między słowami \n",
    "####jest ono proporcjonalne do cosinusa kąta wektorami je reprezentującymi. Odpowiednia funkcja jest zdefiniowana dla leksemów (tutaj oznaczają one słowa z pominięciem kontekstu)."
   ]
  },
  {
   "cell_type": "code",
   "execution_count": 26,
   "metadata": {
    "colab": {},
    "colab_type": "code",
    "id": "-i6ko6L67Fpa"
   },
   "outputs": [
    {
     "name": "stdout",
     "output_type": "stream",
     "text": [
      "(0.9248929, 'piesek')\n",
      "(0.9197937, 'szczeniak')\n",
      "(0.9130602, 'Pies')\n",
      "(0.9057689, 'kot')\n",
      "(0.9051197, 'wilczur')\n",
      "(0.9018397, 'zwierzak')\n",
      "(0.9007868, 'psiak')\n",
      "(0.8871712, 'owczarek')\n",
      "(0.88386726, 'czworonóg')\n",
      "(0.87603015, 'jamnik')\n"
     ]
    }
   ],
   "source": [
    "def thesaurus(word):\n",
    "  synonyms = []\n",
    "  minimum = 0\n",
    "  w_lex = nlp.vocab[word]\n",
    "  for candidate in nlp.vocab:\n",
    "    if candidate.has_vector and candidate != w_lex:\n",
    "      similarity = w_lex.similarity(candidate)\n",
    "      if similarity > minimum:\n",
    "        synonyms.append((similarity, candidate.orth_))\n",
    "      if len(synonyms) >10:\n",
    "        synonyms = sorted(synonyms, reverse = True)\n",
    "        synonyms = synonyms[:-1]\n",
    "        minimum = synonyms[-1][0]\n",
    "\n",
    "  return synonyms\n",
    "\n",
    "syn = (thesaurus(\"pies\"))\n",
    "for x in syn:\n",
    "  print(x)"
   ]
  },
  {
   "cell_type": "markdown",
   "metadata": {},
   "source": [
    "## Streszczanie"
   ]
  },
  {
   "cell_type": "markdown",
   "metadata": {},
   "source": [
    "## Dezambiguacja semantyczna\n",
    "\n"
   ]
  },
  {
   "cell_type": "markdown",
   "metadata": {
    "colab_type": "text",
    "id": "PuPWYncPLyK4"
   },
   "source": [
    "# Część druga - Tagowanie morfosyntaktyczne\n",
    "korzystamy z tagsetu NKJP\n",
    "Nasz tagger to słownikowy tagger Morfeusz2 + dezambiguacja za pomocą neuronowego Toyggera (biLSTM)\n",
    "\n",
    "Każdy token t ma trzy interesujące nas atrybuty: \n",
    "- t.tag_ : klasa gramatyczna według polskiego tagsetu NKJP (http://nkjp.pl/poliqarp/help/ense2.html)\n",
    "- t.pos_ : klasa gramatyczna według międzynarodowego tagsetu UD (mapowana z NKJP)\n",
    "- t._.feats : customowy atrybut odpowiadający cechom morfosyntaktycznym (np. rodzajowi gramatycznemu, lub liczbie), poszczególne wartości cech są oddzielone dwukropkiem"
   ]
  },
  {
   "cell_type": "code",
   "execution_count": 4,
   "metadata": {
    "colab": {},
    "colab_type": "code",
    "id": "e8MPXgjqU2LH"
   },
   "outputs": [
    {
     "name": "stdout",
     "output_type": "stream",
     "text": [
      "Nornica         subst    NOUN   sg:nom:f       \n",
      "prowadzi        fin      VERB   sg:ter:imperf  \n",
      "zmierzchowo     adja     ADJ                   \n",
      "-               interp   PUNCT                 \n",
      "nocny           adj      ADJ    sg:acc:m3:pos  \n",
      "tryb            subst    NOUN   sg:acc:m3      \n",
      "życia           subst    NOUN   sg:gen:n       \n",
      ",               interp   PUNCT                 \n",
      "ale             conj     CCONJ                 \n",
      "wychodzi        fin      VERB   sg:ter:imperf  \n",
      "również         qub      PART                  \n",
      "za              prep     ADP    gen            \n",
      "dnia            subst    NOUN   sg:gen:m3      \n",
      "w               prep     ADP    loc:nwok       \n",
      "poszukiwaniu    ger      NOUN   sg:loc:n:imperf:aff\n",
      "pokarmu         subst    NOUN   sg:gen:m3      \n",
      ".               interp   PUNCT                 \n"
     ]
    }
   ],
   "source": [
    "txt = \"Nornica prowadzi zmierzchowo-nocny tryb życia, ale wychodzi również za dnia w poszukiwaniu pokarmu.\"\n",
    "doc = nlp(txt) # przetworzenie textu przez pipeline, na wyjściu dostajemy iterowalny obiekty klasy Doc, przechowujący tokeny\n",
    "for t in doc:\n",
    "  print(\"{0:15} {1:8} {2:6} {3:15}\".format(t.orth_, t.tag_, t.pos_, t._.feats)) # wypisujemy interpretację morfosyntaktyczną każdego tokenu"
   ]
  },
  {
   "cell_type": "markdown",
   "metadata": {
    "colab_type": "text",
    "id": "rZ2ioo6nW8eo"
   },
   "source": [
    "##Zadanie 1:\n",
    "\n",
    "\n",
    "![alt text](https://github.com/ryszardtuora/webinar_resources/raw/master/czesci_mowy.png)\n",
    "\n",
    "Źródło: Irena Kamińska-Szmaj, *Różnice leksykalne między stylami funkcjonalnymi polszczyzny pisanej: Analiza statystyczna na materiale słownika frekwencyjnego*, 1990.\n",
    "\n",
    "Przetwórz tekst znajdujący się w zmiennej txt, oblicz proporcję czasowników (używając tagów UD), na podstawie tego oszacuj gatunek do którego należy tekst."
   ]
  },
  {
   "cell_type": "code",
   "execution_count": 21,
   "metadata": {
    "colab": {},
    "colab_type": "code",
    "id": "q2eBs1u9VoMR"
   },
   "outputs": [
    {
     "name": "stdout",
     "output_type": "stream",
     "text": [
      "Stosunek czasowników do rzeczowników:  0.0\n",
      "Proporcja czasowników:  0.0\n",
      "Proporcja rzeczowników:  0.3333333333333333\n"
     ]
    }
   ],
   "source": [
    "import requests\n",
    "\n",
    "txt = requests.get(\"https://raw.githubusercontent.com/ryszardtuora/workshop_resources/master/1.txt\").text\n",
    "\n",
    "doc = nlp(txt)\n",
    "nouns = 0\n",
    "verbs = 0\n",
    "tokens = 0\n",
    "non_interp = 0\n",
    "for t in doc:\n",
    "  tokens += 1\n",
    "  if t.pos_ != \"PUNCT\":\n",
    "    non_interp +=1\n",
    "  if t.pos_ == \"NOUN\":\n",
    "    nouns += 1\n",
    "  if t.pos_ == \"VERB\":\n",
    "    verbs += 1\n",
    "    \n",
    "print(\"Stosunek czasowników do rzeczowników: \", verbs/nouns)\n",
    "print(\"Proporcja czasowników: \", verbs/non_interp)\n",
    "print(\"Proporcja rzeczowników: \", nouns/non_interp)"
   ]
  },
  {
   "cell_type": "markdown",
   "metadata": {
    "colab_type": "text",
    "id": "KzHlNwhrthsl"
   },
   "source": [
    "### Fleksja\n",
    "\n",
    "Flexer pozwala na odmianę pojedynczych tokenów, do pożądanej charakterystyki morfologicznej. Argumentami do flexera jest słowo do odmiany (string, lub lepiej otagowany token), i przedzielony dwukropkami string znaczników morfosyntaktycznych.\n",
    "\n",
    "Flexer umożliwia np. wypełnianie szablonów tekstów."
   ]
  },
  {
   "cell_type": "code",
   "execution_count": 5,
   "metadata": {
    "colab": {},
    "colab_type": "code",
    "id": "V4bvg3thmuzt"
   },
   "outputs": [
    {
     "name": "stdout",
     "output_type": "stream",
     "text": [
      "Szukam szarej, porcelanowej filiżanki.\n",
      "Marzę o szarej, porcelanowej filiżance.\n",
      "Szukam kompletu porcelanowych filiżanek.\n"
     ]
    }
   ],
   "source": [
    "#filizanka = nlp(\"filiżanka\")[0]\n",
    "#print(filizanka._.feats)\n",
    "filizanka = \"filiżanka\"\n",
    "flexer = nlp.get_pipe(\"flexer\")\n",
    "\n",
    "tmpl1 = \"Szukam szarej, ceramicznej {}.\".format(flexer.flex(filizanka, \"gen\"))\n",
    "tmpl2 = \"Marzę o szarej, ceramicznej {}.\".format(flexer.flex(filizanka, \"loc\"))\n",
    "tmpl3 = \"Szukam kompletu ceramicznych {}.\".format(flexer.flex(filizanka, \"gen:pl\"))\n",
    "print(tmpl1)\n",
    "print(tmpl2)\n",
    "print(tmpl3)"
   ]
  },
  {
   "cell_type": "code",
   "execution_count": null,
   "metadata": {},
   "outputs": [],
   "source": [
    "Flexer pozwala także na odmianę fraz wielowyrazowych (multi-word expressions - MWE).\n",
    "W tym celu możemy do niego podać string, lub token odpowiadający głowie frazy.\n",
    "Korzystamy z metody .flex_mwe()"
   ]
  },
  {
   "cell_type": "code",
   "execution_count": 12,
   "metadata": {},
   "outputs": [
    {
     "name": "stdout",
     "output_type": "stream",
     "text": [
      "Szukam białej, porcelanowej filiżanki z Chin.\n",
      "Marzę o białej, porcelanowej filiżance z Chin.\n",
      "Szukam kompletu białych, porcelanowych filiżanek z Chin.\n"
     ]
    }
   ],
   "source": [
    "filizanka2 = \"biała, porcelanowa filiżanka z Chin\"\n",
    "\n",
    "tmpl1 = \"Szukam {}.\".format(flexer.flex_mwe(filizanka2, \"gen\"))\n",
    "tmpl2 = \"Marzę o {}.\".format(flexer.flex_mwe(filizanka2, \"loc\"))\n",
    "tmpl3 = \"Szukam kompletu {}.\".format(flexer.flex_mwe(filizanka2, \"gen:pl\"))\n",
    "\n",
    "print(tmpl1)\n",
    "print(tmpl2)\n",
    "print(tmpl3)"
   ]
  },
  {
   "cell_type": "markdown",
   "metadata": {},
   "source": [
    "## Zadanie 2\n",
    "\n",
    "Zaprojektuj język znaczników morfosyntaktycznych dla luk w szablonach, który określa jaką formę muszą przyjąć frazy, by móc wypełnić te luki.\n",
    "Zaprojektuj funkcję, która pobiera jako argumenty 1. szablon z tak oznakowaną luką, 2. frazę do wypełnienia luki, która odmienia wskazaną frazę, i wkleja ją w miejsce luki. \n",
    "Możesz założyć, że funkcja ma działać wtedy, i tylko wtedy, gdy w szablonie znajduje się jedna luka."
   ]
  },
  {
   "cell_type": "code",
   "execution_count": 16,
   "metadata": {},
   "outputs": [
    {
     "name": "stdout",
     "output_type": "stream",
     "text": [
      "Przyglądam się czarnym, skórzanym torebkom ze sprzączką.\n"
     ]
    }
   ],
   "source": [
    "import re\n",
    "\n",
    "gap_tag = \"#gen:loc#\"\n",
    "gap_regex = re.compile(\"#[^#]+#\")\n",
    "template = \"Przyglądam się #dat:pl#.\"\n",
    "phrase = \"czarne, skórzana torebka ze sprzączką\"\n",
    "\n",
    "def fill_template(template, phrase):\n",
    "    match = gap_regex.search(template)\n",
    "    tag = match.group(0)\n",
    "    morpho = tag.strip(\"#\")\n",
    "    flexed = flexer.flex_mwe(phrase, morpho)\n",
    "    filled = template.replace(tag, flexed)\n",
    "    return filled\n",
    "\n",
    "print(fill_template(template, phrase))"
   ]
  },
  {
   "cell_type": "markdown",
   "metadata": {
    "colab_type": "text",
    "id": "noq6HpCgY4q2"
   },
   "source": [
    "#Część druga - Lematyzacja i własności leksykalne\n",
    "Nasz model umożliwia słownikową lematyzację przy pomocy Morfeusza, do dezambiguacji (tutaj np. rozróżnienia między \"Głos zabrały mamy dzieci.\"-> \"mama\" i \"My mamy samochód.\" -> \"mieć\" służy output taggera).\n",
    "\n",
    "Lematyzacja pozwala redukować redundancję informacyjną, i ułatwiać zadania takie jak streszczanie, i przeszukiwanie.\n",
    "\n",
    "Każdy z tokenów dodatkowo jest oznaczony ze względu na pewne własności leksykalne, np. :\n",
    "- t.lemma_ - lemat - forma reprezentatywna danego leksemu\n",
    "- t.is_stop - słowo należy do stoplisty (listy słów występujących najczęściej, a więc najmniej istotnych semantycznie)\n",
    "- t.is_oov - słowo znajduje się poza słownikiem, i.e. embeddingami wykorzystanymi w modelu\n",
    "- t.like_url - token ma strukturę url-a\n",
    "- t.like_num - token jest liczbą\n",
    "- t.is_alpha - token składa się tylko ze znaków alfabetycznych\n",
    "- t.rank - miejse w rankingu częstości słów"
   ]
  },
  {
   "cell_type": "code",
   "execution_count": 17,
   "metadata": {
    "colab": {},
    "colab_type": "code",
    "id": "SFmVQkr2ZsKu"
   },
   "outputs": [
    {
     "name": "stdout",
     "output_type": "stream",
     "text": [
      "forma            lemat            OOV   STOP  Częstość            \n",
      "\n",
      "Zdenerwowany     zdenerwować          0     0               117789\n",
      "gen              generał              0     0                 4239\n",
      ".                .                    0     0                    1\n",
      "Leese            Leese                1     0 18446744073709551615\n",
      "mówił            mówić                0     0                  536\n",
      "przez            przez                0     1                   32\n",
      "telefon          telefon              0     0                 1629\n",
      "swym             swój                 0     0                 1994\n",
      "podwładnym       podwładny            0     0                69725\n",
      "walczącym        walczyć              0     0                58343\n",
      "pod              pod                  0     1                   84\n",
      "Monte            Monte                0     0                15050\n",
      "Cassino          Cassino              0     0                33875\n",
      ",                ,                    0     0                    2\n",
      "że               że                   0     1                   16\n",
      "rozmawia         rozmawiać            0     0                 9702\n",
      "z                z                    0     1                    8\n",
      "nimi             on                   0     1                  553\n",
      "ze               z                    0     1                   38\n",
      "schronu          schron               0     0                62899\n",
      ".                .                    0     0                    1\n"
     ]
    }
   ],
   "source": [
    "txt = \"Zdenerwowany gen. Leese mówił przez telefon swym podwładnym walczącym pod Monte Cassino, że rozmawia z nimi ze schronu.\"\n",
    "doc = nlp(txt)\n",
    "print(\"{0:16} {1:16} {2:5} {3:5} {4:20}\\n\".format(\"forma\", \"lemat\", \"OOV\", \"STOP\", \"Częstość\"))\n",
    "for t in doc:\n",
    "  print(\"{0:16} {1:16} {2:5} {3:5} {4:20}\".format(t.orth_, t.lemma_, t.is_oov, t.is_stop, t.rank)) # orth_ to atrybut odpowiadający formie słowa występującej w tekście"
   ]
  },
  {
   "cell_type": "markdown",
   "metadata": {
    "colab_type": "text",
    "id": "c2cBJlSpcziu"
   },
   "source": [
    "##Zadanie 2:\n",
    "\n",
    "Przetwórz tekst spod zmiennej txt, przekonwertuj go do listy lematów, usuń słowa ze stoplisty, oraz interpunkcję, wypisz dziesięć najczęściej pojawiających się lematów. Wypróbuj także opcję w której uwzględniamy tylko rzeczowniki\n"
   ]
  },
  {
   "cell_type": "code",
   "execution_count": 18,
   "metadata": {
    "colab": {},
    "colab_type": "code",
    "id": "HlxUtCEqcy3k"
   },
   "outputs": [
    {
     "ename": "NameError",
     "evalue": "name 'requests' is not defined",
     "output_type": "error",
     "traceback": [
      "\u001b[0;31m---------------------------------------------------------------------------\u001b[0m",
      "\u001b[0;31mNameError\u001b[0m                                 Traceback (most recent call last)",
      "\u001b[0;32m<ipython-input-18-0c61319deca7>\u001b[0m in \u001b[0;36m<module>\u001b[0;34m\u001b[0m\n\u001b[0;32m----> 1\u001b[0;31m \u001b[0mtxt\u001b[0m \u001b[0;34m=\u001b[0m \u001b[0mrequests\u001b[0m\u001b[0;34m.\u001b[0m\u001b[0mget\u001b[0m\u001b[0;34m(\u001b[0m\u001b[0;34m\"https://raw.githubusercontent.com/ryszardtuora/webinar_resources/master/2.txt\"\u001b[0m\u001b[0;34m)\u001b[0m\u001b[0;34m.\u001b[0m\u001b[0mtext\u001b[0m\u001b[0;34m\u001b[0m\u001b[0;34m\u001b[0m\u001b[0m\n\u001b[0m\u001b[1;32m      2\u001b[0m \u001b[0;34m\u001b[0m\u001b[0m\n\u001b[1;32m      3\u001b[0m \u001b[0mdoc\u001b[0m \u001b[0;34m=\u001b[0m \u001b[0mnlp\u001b[0m\u001b[0;34m(\u001b[0m\u001b[0mtxt\u001b[0m\u001b[0;34m)\u001b[0m\u001b[0;34m\u001b[0m\u001b[0;34m\u001b[0m\u001b[0m\n\u001b[1;32m      4\u001b[0m \u001b[0mwords\u001b[0m \u001b[0;34m=\u001b[0m \u001b[0;34m{\u001b[0m\u001b[0;34m}\u001b[0m\u001b[0;34m\u001b[0m\u001b[0;34m\u001b[0m\u001b[0m\n\u001b[1;32m      5\u001b[0m \u001b[0;32mfor\u001b[0m \u001b[0mt\u001b[0m \u001b[0;32min\u001b[0m \u001b[0mdoc\u001b[0m\u001b[0;34m:\u001b[0m\u001b[0;34m\u001b[0m\u001b[0;34m\u001b[0m\u001b[0m\n",
      "\u001b[0;31mNameError\u001b[0m: name 'requests' is not defined"
     ]
    }
   ],
   "source": [
    "txt = requests.get(\"https://raw.githubusercontent.com/ryszardtuora/webinar_resources/master/2.txt\").text\n",
    "\n",
    "doc = nlp(txt)\n",
    "words = {}\n",
    "for t in doc:\n",
    "  if not (t.is_stop or t.tag_ == \"interp\"):\n",
    "    try:\n",
    "      words[t.lemma_] +=1\n",
    "    except KeyError:\n",
    "      words[t.lemma_] = 1\n",
    "listed = [(words[w],w) for w in words]\n",
    "srt = sorted(listed, reverse = True)\n",
    "print(srt[0:10])"
   ]
  },
  {
   "cell_type": "markdown",
   "metadata": {
    "colab_type": "text",
    "id": "yev0e8lQmwMm"
   },
   "source": [
    "#Część trzecia - parsowanie zależnościowe\n",
    "\n",
    "spaCy zawiera parser zależnościowy oparty o metodologię transition-based dependency parsing. \n",
    "Interesują nas tu cztery atrybuty:\n",
    " - t.head - link do tokenu będącego nadrzędnikiem tokenu t\n",
    " - t.dep_ - etykieta opisująca rodzaj zależności\n",
    " - t.subtree - generator opisujący poddrzewo rozpięte przez token t\n",
    " - t.ancestors - generator opisujący wszystkie przechodnie nadrzędniki tokenu t\n",
    "\n",
    "\n",
    "Opis systemu etykiet: https://universaldependencies.org/u/dep/all.html"
   ]
  },
  {
   "cell_type": "code",
   "execution_count": null,
   "metadata": {
    "colab": {},
    "colab_type": "code",
    "id": "w7i9joa5n3ZK"
   },
   "outputs": [],
   "source": [
    "txt = \"Pierwsza wzmianka o Gdańsku pochodzi ze spisanego po łacinie w 999 Żywotu świętego Wojciecha.\"\n",
    "doc = nlp(txt)\n",
    "\n",
    "import pandas as pd\n",
    "\n",
    "table = []\n",
    "for tok in doc:\n",
    "  tok_dic = {\"form\": tok.orth_, \"label\": tok.dep_, \"head\": tok.head.orth_, \"subtree\": list(tok.subtree), \"ancestors\": list(tok.ancestors)}\n",
    "  table.append(tok_dic)\n",
    "df = pd.DataFrame(table)\n",
    "print(df.to_string())"
   ]
  },
  {
   "cell_type": "markdown",
   "metadata": {
    "colab_type": "text",
    "id": "n6MI0U4Npeqn"
   },
   "source": [
    "### spaCy posiada wbudowaną wizualizację drzew zależnościowych"
   ]
  },
  {
   "cell_type": "code",
   "execution_count": null,
   "metadata": {
    "colab": {},
    "colab_type": "code",
    "id": "zFX-8z48peHV"
   },
   "outputs": [],
   "source": [
    "from spacy import displacy\n",
    "\n",
    "displacy.render(doc, jupyter = True)"
   ]
  },
  {
   "cell_type": "markdown",
   "metadata": {
    "colab_type": "text",
    "id": "JS6zUzTKmN86"
   },
   "source": [
    "###Poniższa funkcja służy łatwej wizualizacji podstawowych własności tokenów z danego tekstu"
   ]
  },
  {
   "cell_type": "code",
   "execution_count": null,
   "metadata": {
    "colab": {},
    "colab_type": "code",
    "id": "PDcn4tWTLBwz"
   },
   "outputs": [],
   "source": [
    "import pandas as pd\n",
    "\n",
    "def table(doc):\n",
    "  table = []\n",
    "  for tok in doc:\n",
    "    tok_dic = {\"form\": tok.orth_, \"lemma\": tok.lemma_, \"tag\": \":\".join([tok.tag_, tok._.feats]), \"dep_label\": tok.dep_, \"dep_head\": tok.head.orth_}\n",
    "    table.append(tok_dic)\n",
    "  return pd.DataFrame(table)\n",
    "\n",
    "txt = \"Wiadomość jest symboliczna, ale oznacza też początek długotrwałego trendu.\\\n",
    " Dochód na mieszkańca z uwzględnieniem realnej mocy nabywczej walut narodowych \\\n",
    " wyniósł w 2019 r. w Rzeczpospolitej Polskiej 33 891 dolarów, nieco więcej, niż w Portugalii \\\n",
    " (33 665 dolarów). Jednak Fundusz przewiduje, że w tym roku portugalska gospodarka\\\n",
    "  będzie się rozwijać w tempie 1,6 proc. wobec 3,1 proc. w przypadku gospodarki \\\n",
    "  polskiej. Nożyce między oboma krajami będą się więc rozwierać.\"\n",
    "\n",
    "doc = nlp(txt)\n",
    "\n",
    "tab = table(doc)\n",
    "\n",
    "print(tab.to_string()) # prosty hack na wypisanie całej tabeli"
   ]
  },
  {
   "cell_type": "markdown",
   "metadata": {
    "colab_type": "text",
    "id": "_EwypobSuHQZ"
   },
   "source": [
    "###Czasami interesują nas większe całości niż pojedyncze tokeny, np. rzeczowniki często łączą się z przymiotnikami w frazy, żeby znajdować takie całości w tekście możemy korzystać z Matchera."
   ]
  },
  {
   "cell_type": "code",
   "execution_count": null,
   "metadata": {
    "colab": {},
    "colab_type": "code",
    "id": "rgH3Y2ybhYxp"
   },
   "outputs": [],
   "source": [
    "from spacy.matcher import Matcher\n",
    "\n",
    "matcher = Matcher(nlp.vocab)\n",
    "doc.is_tagged = True # tymczasowy hack, będzie zbędny w kolejnej wersji modelu\n",
    "pattern = [{\"TAG\": \"adj\"}, {\"TAG\": \"subst\"}]\n",
    "matcher.add(\"AdjSubst\", None, pattern) # nazwa, funkcja, wzór\n",
    "\n",
    "for match_id, start, end in matcher(doc):\n",
    "  print(doc[start:end])"
   ]
  },
  {
   "cell_type": "markdown",
   "metadata": {
    "colab_type": "text",
    "id": "tev_A5DLp04E"
   },
   "source": [
    "#### Niemniej w języku polskim, ze względu na swobodę szyku, takie rozwiązanie jest mało owocne, przymiotnik nie musi zawsze poprzedzać rzeczownika który określa, tego typu zależności są widoczne dopiero na poziomie analizy gramatycznej\n",
    "\n",
    "### W gramatykach zależnościowych możliwa jest częściowa rekonstrukcja fraz rzeczownikowych (Noun Phrase - NP)\n",
    "Aby to zrobić, musimy wydobyć z tekstu wszystkie rzeczowniki, zebrać wszystkie rozpinane przez nie poddrzewa, i wyrzucić ze zbioru te poddrzewa, które są już podfrazą większej frazy rzeczownikowej. To frazy rzeczownikowe, a nie same rzeczowniki, są jednostkami które mają dobrze określone znaczenie. Np. w zdaniu:\n",
    "\n",
    "###*Żona Pawła jest blondynką.* \n",
    "\n",
    "nie mówimy o Pawle, ani o jakiejś abstrakcyjnej żonie, tylko o konkretnej kobiecie, którą wyodrębniamy przez fakt że jest żoną Pawła."
   ]
  },
  {
   "cell_type": "markdown",
   "metadata": {
    "colab_type": "text",
    "id": "XKlWTF1aqNgm"
   },
   "source": [
    "##Zadanie 3:\n",
    "\n",
    "Napisz funkcję która na wejściu pobiera dokument, a na wyjściu zwraca listę fraz rzeczownikowych zgodnie z podanym powyżej opisem. Następnie wyodrębnij wszystkie frazy rzeczownikowe z tekstu pod zmienną txt."
   ]
  },
  {
   "cell_type": "code",
   "execution_count": null,
   "metadata": {
    "colab": {},
    "colab_type": "code",
    "id": "0WkRuafBp0F8"
   },
   "outputs": [],
   "source": [
    "def get_nps(doc):\n",
    "  # Wyszukuje w sparsowanym dokumencie wszystkie maksymalne frazy rzeczownikowe\n",
    "  def is_contained(stree, stree_list):\n",
    "    # Sprawdza czy podana fraza jest podfrazą innej, większej frazy\n",
    "    return any([all([t in st for t in stree]) for st in stree_list])\n",
    "  \n",
    "  nouns = [t for t in doc if t.tag_ == \"subst\"] # to może być zależne od wersji niemorfeuszowej\n",
    "  subtrees = [list(n.subtree) for n in nouns]\n",
    "  to_eliminate = True\n",
    "  while to_eliminate:\n",
    "    # pętla do eliminowania fraz będących częścią większych fraz rzeczownikowych\n",
    "    to_remove = []\n",
    "    for st in subtrees:\n",
    "      if is_contained(st, [x for x in subtrees if x != st]):\n",
    "        to_remove.append(st)\n",
    "    if to_remove == []:\n",
    "      to_eliminate = False\n",
    "    else:\n",
    "      subtrees = [st for st in subtrees if st not in to_remove]\n",
    "  return subtrees\n",
    "\n",
    "for st in get_nps(nlp(txt)):\n",
    "  print(st)"
   ]
  },
  {
   "cell_type": "markdown",
   "metadata": {
    "colab_type": "text",
    "id": "YG0hKgyWwc4N"
   },
   "source": [
    "###Parser zależnościowy pozwala także na dzielenie dokumentów na zdania w sposób bardziej inteligentny, niż posługując się regułami interpunkcji.\n",
    "###Za zdanie uważamy nieprzerwaną sekwencję tokenów które są powiązane relacjami zależnościowymi.\n",
    "###Zdania są zapisane w atrybucie doc.sents dokumentu."
   ]
  },
  {
   "cell_type": "code",
   "execution_count": null,
   "metadata": {
    "colab": {},
    "colab_type": "code",
    "id": "fH4rg0X4wwIB"
   },
   "outputs": [],
   "source": [
    "for s in doc.sents:\n",
    "  print(s)\n",
    "\n",
    "displacy.render(doc, jupyter = True)"
   ]
  },
  {
   "cell_type": "markdown",
   "metadata": {
    "colab_type": "text",
    "id": "E6d5JbrSsnhm"
   },
   "source": [
    "#Część czwarta - Rozpoznawanie jednostek nazewniczych (NER)\n",
    "####Nasz model do spaCy wykorzystuje 6 rodzajów etykiet:\n",
    "- placeName - miejsca antropogeniczne, np. Dania, Londyn\n",
    "- geogName - naturalne miejsca geograficzne, np. Tatry, Kreta\n",
    "- persName - imiona i nazwiska osób, np. J. F. Kennedy, gen. Maczek\n",
    "- orgName - nazwy organizacji, np. NATO, Unia Europejska\n",
    "- date - daty, np. 22 marca 1999, druga połowa kwietnia\n",
    "- time - czas, np. 18:55, pięć po dwunastej\n",
    "\n",
    "####Nie pozwala na wykrywanie zagnieżdżonych jednostek nazewniczych, np. [placeName: **aleja** [persName: **Piłsudskiego**]]\n",
    "\n",
    "####Wykryte wzmianki są przechowywane w atrybucie doc.ents dokumentu, każda z tych wzmianek ma atrybut ent.label_, w którym przechowywana jest jej etykieta."
   ]
  },
  {
   "cell_type": "code",
   "execution_count": null,
   "metadata": {
    "colab": {},
    "colab_type": "code",
    "id": "6Bkf6kOWt8GK"
   },
   "outputs": [],
   "source": [
    "print(doc, \"\\n\\n\")\n",
    "for e in doc.ents:\n",
    "  print(e, e.label_)\n"
   ]
  },
  {
   "cell_type": "markdown",
   "metadata": {
    "colab_type": "text",
    "id": "zniWaxZxvYZz"
   },
   "source": [
    "###displaCy pozwala także na wizualizację jednostek nazewniczych"
   ]
  },
  {
   "cell_type": "code",
   "execution_count": null,
   "metadata": {
    "colab": {},
    "colab_type": "code",
    "id": "CJOleJmIvfGs"
   },
   "outputs": [],
   "source": [
    "displacy.render(doc, style=\"ent\", jupyter = True)"
   ]
  },
  {
   "cell_type": "markdown",
   "metadata": {
    "colab_type": "text",
    "id": "cknnUsl1uaKb"
   },
   "source": [
    "W obecnym modelu NER, uwzględnione są \"uniwersalne\" kategorie jednostek nazewniczych, jednak w zależności od zastosowania będziemy najprawdopodobniej potrzebowali innych kategorii - np. osobnej kategorii dla nazw aktów prawodawczych, lub kwot i walut.\n",
    "\n",
    "Bez problemu można zastąpić domyślny model własnym, wytrenowanym przez CLI spaCy na własnych oznakowanych danych. Więcej informacji tu: https://spacy.io/api/cli#train"
   ]
  },
  {
   "cell_type": "markdown",
   "metadata": {
    "colab_type": "text",
    "id": "KBxZzfaX28_M"
   },
   "source": [
    "##Zadanie 4:\n",
    "\n",
    "W zmiennej txt znajduje się dokument historyczny, wydobądź z niego wszystkie *zdania* zawierające daty, i po kolei je wypisz, rozważ możliwe sposoby automatycznego szeregowania dat wyrażonych w różny sposób (po ewentualnym sprowadzeniu ich do kanonicznej postaci). Rozwiązanie tego problemu jest trudne, i istnieją do niego odrębne narzędzia, umożliwiają one np. automatyczną rekonstrukcję chronologii wydarzeń."
   ]
  },
  {
   "cell_type": "code",
   "execution_count": null,
   "metadata": {
    "colab": {},
    "colab_type": "code",
    "id": "glLD6N0V3Uo2"
   },
   "outputs": [],
   "source": [
    "txt = requests.get(\"https://raw.githubusercontent.com/ryszardtuora/webinar_resources/master/3.txt\").text\n",
    "\n",
    "doc = nlp(txt)\n",
    "events = []\n",
    "for s in doc.sents:\n",
    "  ents = s.ents\n",
    "  labs = [e.label_ for e in ents]\n",
    "  if \"date\" in labs:\n",
    "    events.append(s)\n",
    "\n",
    "for s in events:\n",
    "  print(s)"
   ]
  },
  {
   "cell_type": "markdown",
   "metadata": {},
   "source": [
    "Całym dokumentom także można przypisywać reprezentację wektorową, najprostszy sposób, to po prostu uśrednianie wektorów wszystkich tokenów w dokumencie.\n",
    "\n",
    "Wektor reprezentujący dokument jest przechowywane w atrybucie doc.vector"
   ]
  },
  {
   "cell_type": "code",
   "execution_count": null,
   "metadata": {},
   "outputs": [],
   "source": [
    "document_vector = doc.vector\n",
    "mean_document_vector = sum([tok.vector for tok in doc])/len(doc)\n",
    "print(document_vector == mean_document_vector)"
   ]
  },
  {
   "cell_type": "code",
   "execution_count": 1,
   "metadata": {},
   "outputs": [],
   "source": [
    "import spacy\n",
    "nlp = spacy.load(\"pl_spacy_model_morfeusz\")"
   ]
  },
  {
   "cell_type": "code",
   "execution_count": 10,
   "metadata": {},
   "outputs": [],
   "source": [
    "from sklearn.cluster import KMeans\n",
    "import numpy\n",
    "\n",
    "txt = \"\"\"Lwy jako jedyne kotowate żyją w grupach rodzinnych. Stado składa się z wielu osobników – spokrewnionych samic, ich potomstwa obojga płci i kilku niespokrewnionych samców, których głównym zadaniem jest obrona terytorium i zapładnianie samic. Odnotowano tylko dwa przypadki obecności niespokrewnionych samic w stadzie W stadzie może być jeden samiec (typowe dla populacji z Tsavo) lub koalicja 2–4 samców. Większość stad liczy od 2 do 12 dorosłych osobników. Wielkość, liczba i zagęszczenie stad są uzależnione od dostępności pokarmu oraz liczebności lwów na danym obszarze.\n",
    "\n",
    "Każde stado ma swoją własną hierarchię, w której najsłabszy samiec ma rangę wyższą od samic. Samce stale rywalizują o przywództwo nad stadem z innymi lwami i rzadko zdarza się, by samiec lwa żył w jednym stadzie dłużej niż 3 lata. Jeśli przewodzący samiec zostanie pokonany przez innego, odchodzi od stada i z reguły już nigdy do niego nie wraca.\n",
    "\n",
    "\n",
    "Młode samice zwykle pozostają w stadzie na stałe, młode samce opuszczają stado po osiągnięciu dojrzałości płciowej.\n",
    "\n",
    "Wyjaśnieniem stadnego – nietypowego dla kotowatych – trybu życia mogą być dwie przyczyny: zwiększenie skuteczności pozyskiwania pokarmu oraz zwiększenie przeżywalności młodych. Większa skuteczność polowania w stadzie została wielokrotnie potwierdzona obserwacjami. Badacze podnoszą jednak argument, że w większym stadzie zdobycz dzielona jest pomiędzy wiele osobników. Mniejsza skuteczność lwa polującego samotnie nagradzana jest natomiast większą porcją posiłku, jaka mu pozostaje bez konieczności dzielenia się ze współbiesiadnikami. Wprawdzie większość lwów żyje w stadach, ale samotniczy tryb życia nie jest u nich rzadkością. Poza tym lwy (zarówno samce, jak i samice) oddalają się czasem od stada, aby zapolować samotnie, co sugeruje, że wspólne polowania nie są najmocniejszym czynnikiem wzmacniającym relacje socjalne tych zwierząt.\n",
    "\n",
    "W trakcie wieloletnich obserwacji lwów w Serengeti badacze stwierdzili, że największą przeżywalność młodych uzyskują stada, w których są co najmniej trzy współpracujące ze sobą lwice. Jedna lub dwie samice nie są w stanie uchronić młodych przed nowym samcem, którego pojawienie się w stadzie zagraża lwiątkom – lub przed drapieżnikami, kiedy samice oddaliły się w poszukiwaniu zdobyczy. Lwice wspólnie opiekują się wszystkimi młodymi ze stada, natomiast samiec chroniący terytorium i samic chroni jedynie swoje młode.\n",
    "\n",
    "W obronie stada przed intruzami lwice stają razem z samcami. Najsilniejsze samce występują do przodu, a reszta stada staje za nimi.\n",
    "\n",
    "Większość czasu spędzają odpoczywając – do 20 godzin w ciągu doby.\n",
    "\n",
    "Lwy są mięsożercami polującymi głównie na ssaki kopytne, jak antylopy, zebry, gazele, bawoły afrykańskie, żyrafy i guźce zwyczajne oraz sporadycznie młode większych ssaków, takich jak słonie, hipopotamy czy nosorożce. Gdy brakuje pokarmu, zdarza im się napadać na zwierzęta hodowlane, zjadać gryzonie, ptaki czy padlinę, a nawet ludzi.\n",
    "\n",
    "Na terenach otwartych lwy najczęściej polują w nocy. Tam, gdzie są wysokie trawy lub gęste krzewy, polowania zdarzają się również w ciągu dnia. Samce rzadko uczestniczą w polowaniach. Przyłączają się do łowów na dużego zwierza, takiego jak bawoły. Wówczas siła samca jest niezbędna do przytrzymania, a następnie powalenia ofiary ataku. Samice zwykle polują stadnie. Badania przeprowadzone przez G. Schallera w 1972 roku w Parku Narodowym Serengeti wykazały, że lwy mają dwukrotnie więcej szans na złapanie ofiary, gdy polują w grupie, niż samotnie (17% szans ma samica polująca pojedynczo, a 30% jeśli polują dwie). Kilka samic chętnie współpracuje ze sobą na polowaniu. Podczas polowania rozpraszają się na rozległym obszarze. Część z nich czeka, aż pozostałe nagonią zdobycz w ich stronę, wtedy zaczyna się atak.\n",
    "\n",
    "\n",
    "Skuteczność ataków zależy od zdobyczy, pory dnia, rodzaju terenu oraz umiejętności współpracy w stadzie. W przypadku gazel skuteczność polowania wynosi ok. 14%, gnu i zebr 38%, a guźców 48%. Polowanie nocne charakteryzuje się 33% skutecznością, dzienne 21%. Na otwartych przestrzeniach (sawanna), gdzie ofiara ma sprzyjające warunki do ucieczki, skuteczność polowania zależy głównie od umiejętności współpracy pomiędzy osobnikami stada. Przeciętnie tylko 12 procent takich polowań kończy się sukcesem, a w buszu 41 procent. W zależności od terenu, upodobań oraz sposobu obrony stosowanego przez ofiarę lwy używają różnych technik łowieckich.\n",
    "\n",
    "\n",
    "Podstawowa technika polega na spłoszeniu ofiary i zagonieniu jej do pułapki. Młode lwy kierują upatrzoną zdobycz ku ukrytym w krzakach lub w trawie bardziej doświadczonym osobnikom, które powalają zwierzę. Lwy zabijają, przewracając ofiarę na ziemię i dusząc ją, trzymając zwierzę za pysk lub zaciskając zęby na gardle. Jeśli samica jest zmuszona polować samotnie, podkrada się do ofiary na ile to jest możliwe, zwykle na odległość 30 m lub bliżej. Większość ssaków kopytnych potrafi biegać szybciej niż lwy.\n",
    "\n",
    "Lwy, wykorzystując przewagę liczebną, często odbierają zdobycz innym drapieżnikom – gepardom, hienom, lampartom i likaonom. Upolowaną lub zdobytą zwierzyną posila się całe stado, a ponieważ każdy lew stara się zjeść jak najwięcej, dochodzi między nimi do utarczek. Najsilniejszy lew zjada najwięcej, po nim pozostałe samce, później samice, a na końcu młode. Dzienne zapotrzebowanie pokarmowe dorosłego samca sięga 7 kg, a samicy 5 kg mięsa.\n",
    "\n",
    "\n",
    "Lwy rozmnażają się przez cały rok. Gdy samica wchodzi w ruję, jej gruczoły zaczynają wydzielać intensywną woń. Samiec wyczuwa ją węchem, w czym pomaga mu narząd Jacobsona. Samica wybiera partnera spośród dorosłych lwów ze stada, a następnie oddala się z nim na kilka dni. Przez ten czas para kopuluje kilkadziesiąt razy dziennie, w przerwach liżąc się i łasząc do siebie.\n",
    "\n",
    "Podczas samej kopulacji samica leży, a samiec kuca nad nią, przytrzymując partnerkę zębami za kark.\n",
    "\n",
    "\n",
    "Charakterystyczna „mina” jaką przybiera samiec, aby lepiej wyczuć samicę narządem Jacobsona\n",
    "Młode rodzą się w liczbie od 1 do 6 (w większości przypadków od 1 do 4) po ciąży trwającej 100–114 dni. Nowo narodzone lwiątka mają cętki. Ważą od 1 do 2 kg. Młodymi opiekuje się całe stado. Często, gdy lwice ruszają na polowanie, lwiątka pozostają pod opieką jednej lub dwóch „ciotek”, które troszczą się o nie do powrotu matek. Jest to zachowanie niepowtarzalne w rodzinie kotowatych.\n",
    "\n",
    "Tylko jedno na pięć lwiątek osiąga dojrzałość. Młodym zagrażają drapieżniki, takie jak sępy, hieny, czy lamparty, choroby, a także samce własnego gatunku, gdyż po objęciu przywództwa nad stadem lew zabija młode swego poprzednika, by samice szybciej mogły wejść w ruję i urodzić jego potomstwo. Najnowsze badania wykazują, że lwice mogą się temu zjawisku przeciwstawić. Samice pozwalają się obwąchiwać nowemu przywódcy stada. Wydzielają przy tym odpowiednie hormony zapachowe. Równocześnie prowadzą go do swojego legowiska, gdzie stężenie zapachu jest bardzo silne. Im dłużej lew wącha ten zapach, tym bardziej zmniejsza się jego agresja. Ten proces trwa od trzech do pięciu dni. Potem dzieci, dobrze ukryte, są już bezpieczne. Najmniejszą śmiertelność wśród młodych uzyskują samice rodzące w zbliżonym czasie, wspólnie opiekujące się młodymi i wspólnie je karmiące.\n",
    "\n",
    "Małe lwy rodzą się ślepe, ich oczy otwierają się około 3–11 dnia. W wieku 10–15 dni łapy młodych są już dość silne i zwierzęta zaczynają chodzić, choć na pełną sprawność muszą poczekać jeszcze 3-4 tygodnie. Do ósmego tygodnia życia matka trzyma je w ukryciu. Miesięcznym lwom wyrastają pierwsze zęby.\n",
    "\n",
    "W wieku 1-2 miesięcy lwiątka zaczynają oddalać się od matki i bawić się z innymi, dziecięce plamy na futrze znikają w wieku 3 miesięcy. Lwy zaczynają polować w wieku 11 miesięcy, po kolejnych 5 miesiącach są już w pełni samodzielne. Lwia grzywa zaczyna rosnąć w wieku 2 lat. Samce są dojrzałe płciowo po 2,5 roku, samice w wieku 2,5–4 lat.\n",
    "\n",
    "Samce żyją krócej niż samice. Jeśli wcześniej nie zginą w walce, mogą dożyć wieku ponad 10 lat. Notowano pojedyncze przypadki 16-letnich samców żyjących na wolności. Taki wiek, 15–16 lat, dla samic jest natomiast wiekiem przeciętnym. W Parku Serengeti samice żyją do 18 lat. Przeciętny wiek życia w niewoli wynosi 13 lat. Najstarszy znany lew żył 30 lat.\n",
    "\"\"\"\n"
   ]
  },
  {
   "cell_type": "code",
   "execution_count": 25,
   "metadata": {},
   "outputs": [
    {
     "name": "stdout",
     "output_type": "stream",
     "text": [
      "85\n",
      "num\n",
      "(90, Tylko jedno na pięć lwiątek osiąga dojrzałość.)\n",
      "(91, Ważą od 1 do 2 kg.)\n",
      "(91, Wydzielają przy tym odpowiednie hormony zapachowe.)\n",
      "(92, Jest to zachowanie niepowtarzalne w rodzinie kotowatych.)\n",
      "(93, Nowo narodzone lwiątka mają cętki.)\n",
      "(93, Ten proces trwa od trzech do pięciu dni.)\n",
      "(93, Miesięcznym lwom wyrastają pierwsze zęby.)\n",
      "(95, Samce rzadko uczestniczą w polowaniach.)\n",
      "(95, Lwy rozmnażają się przez cały rok.)\n",
      "(95, Młodymi opiekuje się całe stado.)\n",
      "(96, Do ósmego tygodnia życia matka trzyma je w ukryciu.)\n",
      "(97, Samice zwykle polują stadnie.)\n",
      "(97, Kilka samic chętnie współpracuje ze sobą na polowaniu.)\n",
      "(97, Podczas polowania rozpraszają się na rozległym obszarze.)\n",
      "(97, Podstawowa technika polega na spłoszeniu ofiary i zagonieniu jej do pułapki.)\n",
      "(97, Notowano pojedyncze przypadki 16-letnich samców żyjących na wolności.)\n",
      "(98, Większość stad liczy od 2 do 12 dorosłych osobników.)\n",
      "(100, Lwy jako jedyne kotowate żyją w grupach rodzinnych.)\n",
      "(102, Samice pozwalają się obwąchiwać nowemu przywódcy stada.)\n",
      "(103, Na terenach otwartych lwy najczęściej polują w nocy.)\n",
      "(103, Najstarszy znany lew żył 30 lat.)\n",
      "(104, Większość ssaków kopytnych potrafi biegać szybciej niż lwy.)\n",
      "(104, Przeciętny wiek życia w niewoli wynosi 13 lat.)\n",
      "(105, W obronie stada przed intruzami lwice stają razem z samcami.)\n",
      "(105, Samce żyją krócej niż samice.)\n",
      "(106, Lwia grzywa zaczyna rosnąć w wieku 2 lat.)\n",
      "(109, Większość czasu spędzają odpoczywając – do 20 godzin w ciągu doby.)\n",
      "(110, Większa skuteczność polowania w stadzie została wielokrotnie potwierdzona obserwacjami.)\n",
      "(112, W Parku Serengeti samice żyją do 18 lat.)\n",
      "(138, Wyjaśnieniem stadnego – nietypowego dla kotowatych – trybu życia mogą być dwie przyczyny: zwiększenie skuteczności pozyskiwania pokarmu oraz zwiększenie przeżywalności młodych.)\n",
      "(152, Odnotowano tylko dwa przypadki obecności niespokrewnionych samic w stadzie W stadzie może być jeden samiec (typowe dla populacji z Tsavo) lub koalicja 2–4 samców.)\n",
      "(191, Przyłączają się do łowów na dużego zwierza, takiego jak bawoły.)\n",
      "(192, Równocześnie prowadzą go do swojego legowiska, gdzie stężenie zapachu jest bardzo silne.)\n",
      "(193, Przeciętnie tylko 12 procent takich polowań kończy się sukcesem, a w buszu 41 procent.)\n",
      "(193, Samiec wyczuwa ją węchem, w czym pomaga mu narząd Jacobsona.)\n",
      "(193, Przez ten czas para kopuluje kilkadziesiąt razy dziennie, w przerwach liżąc się i łasząc do siebie.)\n",
      "(193, Najnowsze badania wykazują, że lwice mogą się temu zjawisku przeciwstawić.)\n",
      "(195, Im dłużej lew wącha ten zapach, tym bardziej zmniejsza się jego agresja.)\n",
      "(198, Wówczas siła samca jest niezbędna do przytrzymania, a następnie powalenia ofiary ataku.)\n",
      "(199, Wprawdzie większość lwów żyje w stadach, ale samotniczy tryb życia nie jest u nich rzadkością.)\n",
      "(199, Dzienne zapotrzebowanie pokarmowe dorosłego samca sięga 7 kg, a samicy 5 kg mięsa.)\n",
      "(199, Gdy samica wchodzi w ruję, jej gruczoły zaczynają wydzielać intensywną woń.)\n",
      "(202, Wielkość, liczba i zagęszczenie stad są uzależnione od dostępności pokarmu oraz liczebności lwów na danym obszarze.)\n",
      "(202, Jeśli wcześniej nie zginą w walce, mogą dożyć wieku ponad 10 lat.)\n",
      "(203, Najsilniejsze samce występują do przodu, a reszta stada staje za nimi.)\n",
      "(203, Polowanie nocne charakteryzuje się 33% skutecznością, dzienne 21%.)\n",
      "(204, W zależności od terenu, upodobań oraz sposobu obrony stosowanego przez ofiarę lwy używają różnych technik łowieckich.)\n",
      "(205, Mniejsza skuteczność lwa polującego samotnie nagradzana jest natomiast większą porcją posiłku, jaka mu pozostaje bez konieczności dzielenia się ze współbiesiadnikami.)\n",
      "(206, Badacze podnoszą jednak argument, że w większym stadzie zdobycz dzielona jest pomiędzy wiele osobników.)\n",
      "(207, Jeśli przewodzący samiec zostanie pokonany przez innego, odchodzi od stada i z reguły już nigdy do niego nie wraca.)\n",
      "(208, Młode lwy kierują upatrzoną zdobycz ku ukrytym w krzakach lub w trawie bardziej doświadczonym osobnikom, które powalają zwierzę.)\n",
      "(209, Każde stado ma swoją własną hierarchię, w której najsłabszy samiec ma rangę wyższą od samic.)\n",
      "(210, Samica wybiera partnera spośród dorosłych lwów ze stada, a następnie oddala się z nim na kilka dni.)\n",
      "(210, Lwy zaczynają polować w wieku 11 miesięcy, po kolejnych 5 miesiącach są już w pełni samodzielne.)\n",
      "(212, Małe lwy rodzą się ślepe, ich oczy otwierają się około 3–11 dnia.)\n",
      "(216, Najmniejszą śmiertelność wśród młodych uzyskują samice rodzące w zbliżonym czasie, wspólnie opiekujące się młodymi i wspólnie je karmiące.)\n",
      "(222, Samce stale rywalizują o przywództwo nad stadem z innymi lwami i rzadko zdarza się, by samiec lwa żył w jednym stadzie dłużej niż 3 lata.)\n",
      "(222, W wieku 1-2 miesięcy lwiątka zaczynają oddalać się od matki i bawić się z innymi, dziecięce plamy na futrze znikają w wieku 3 miesięcy.)\n",
      "(224, Lwice wspólnie opiekują się wszystkimi młodymi ze stada, natomiast samiec chroniący terytorium i samic chroni jedynie swoje młode.)\n",
      "(229, Młode samice zwykle pozostają w stadzie na stałe, młode samce opuszczają stado po osiągnięciu dojrzałości płciowej.)\n",
      "(229, W wieku 10–15 dni łapy młodych są już dość silne i zwierzęta zaczynają chodzić, choć na pełną sprawność muszą poczekać jeszcze 3-4 tygodnie.)\n",
      "(241, Charakterystyczna „mina” jaką przybiera samiec, aby lepiej wyczuć samicę narządem Jacobsona Młode rodzą się w liczbie od 1 do 6 (w większości przypadków od 1 do 4) po ciąży trwającej 100–114 dni.)\n",
      "(285, Potem dzieci, dobrze ukryte, są już bezpieczne.)\n",
      "(294, Część z nich czeka, aż pozostałe nagonią zdobycz w ich stronę, wtedy zaczyna się atak.)\n",
      "(297, Tam, gdzie są wysokie trawy lub gęste krzewy, polowania zdarzają się również w ciągu dnia.)\n",
      "(300, Podczas samej kopulacji samica leży, a samiec kuca nad nią, przytrzymując partnerkę zębami za kark.)\n",
      "(301, Lwy zabijają, przewracając ofiarę na ziemię i dusząc ją, trzymając zwierzę za pysk lub zaciskając zęby na gardle.)\n",
      "(301, Upolowaną lub zdobytą zwierzyną posila się całe stado, a ponieważ każdy lew stara się zjeść jak najwięcej, dochodzi między nimi do utarczek.)\n",
      "(304, Jeśli samica jest zmuszona polować samotnie, podkrada się do ofiary na ile to jest możliwe, zwykle na odległość 30 m lub bliżej.)\n",
      "(306, Skuteczność ataków zależy od zdobyczy, pory dnia, rodzaju terenu oraz umiejętności współpracy w stadzie.)\n",
      "(311, Taki wiek, 15–16 lat, dla samic jest natomiast wiekiem przeciętnym.)\n",
      "(316, W trakcie wieloletnich obserwacji lwów w Serengeti badacze stwierdzili, że największą przeżywalność młodych uzyskują stada, w których są co najmniej trzy współpracujące ze sobą lwice.)\n",
      "(323, Samce są dojrzałe płciowo po 2,5 roku, samice w wieku 2,5–4 lat.)\n",
      "(326, Stado składa się z wielu osobników – spokrewnionych samic, ich potomstwa obojga płci i kilku niespokrewnionych samców, których głównym zadaniem jest obrona terytorium i zapładnianie samic.)\n",
      "(329, Na otwartych przestrzeniach (sawanna), gdzie ofiara ma sprzyjające warunki do ucieczki, skuteczność polowania zależy głównie od umiejętności współpracy pomiędzy osobnikami stada.)\n",
      "(338, Jedna lub dwie samice nie są w stanie uchronić młodych przed nowym samcem, którego pojawienie się w stadzie zagraża lwiątkom – lub przed drapieżnikami, kiedy samice oddaliły się w poszukiwaniu zdobyczy.)\n",
      "(399, Często, gdy lwice ruszają na polowanie, lwiątka pozostają pod opieką jednej lub dwóch „ciotek”, które troszczą się o nie do powrotu matek.)\n",
      "(406, W przypadku gazel skuteczność polowania wynosi ok. 14%, gnu i zebr 38%, a guźców 48%.)\n",
      "(409, Najsilniejszy lew zjada najwięcej, po nim pozostałe samce, później samice, a na końcu młode.)\n",
      "(490, Gdy brakuje pokarmu, zdarza im się napadać na zwierzęta hodowlane, zjadać gryzonie, ptaki czy padlinę, a nawet ludzi.)\n",
      "(507, Lwy, wykorzystując przewagę liczebną, często odbierają zdobycz innym drapieżnikom – gepardom, hienom, lampartom i likaonom.)\n",
      "(537, Poza tym lwy (zarówno samce, jak i samice) oddalają się czasem od stada, aby zapolować samotnie, co sugeruje, że wspólne polowania nie są najmocniejszym czynnikiem wzmacniającym relacje socjalne tych zwierząt.)\n",
      "(633, Badania przeprowadzone przez G. Schallera w 1972 roku w Parku Narodowym Serengeti wykazały, że lwy mają dwukrotnie więcej szans na złapanie ofiary, gdy polują w grupie, niż samotnie (17% szans ma samica polująca pojedynczo, a 30% jeśli polują dwie).)\n",
      "(799, Lwy są mięsożercami polującymi głównie na ssaki kopytne, jak antylopy, zebry, gazele, bawoły afrykańskie, żyrafy i guźce zwyczajne oraz sporadycznie młode większych ssaków, takich jak słonie, hipopotamy czy nosorożce.)\n",
      "(815, Młodym zagrażają drapieżniki, takie jak sępy, hieny, czy lamparty, choroby, a także samce własnego gatunku, gdyż po objęciu przywództwa nad stadem lew zabija młode swego poprzednika, by samice szybciej mogły wejść w ruję i urodzić jego potomstwo.)\n"
     ]
    }
   ],
   "source": [
    "sents = list(nlp(txt).sents)\n",
    "print(len(sents))\n",
    "print(nlp(\"84\")[0].tag_)\n",
    "\n",
    "cleared_sents = []\n",
    "for s in sents:\n",
    "    tokens = []\n",
    "    for t in s:\n",
    "        if t.tag_ not in [\"num\"] and not t.is_stop:\n",
    "            tokens.append(t.orth_)\n",
    "    cleared_sents.append(tokens)\n",
    "\n",
    "word_scores = {}\n",
    "\n",
    "for s in cleared_sents:\n",
    "    for word in s:\n",
    "        if word in word_scores:\n",
    "            word_scores[word] += 1\n",
    "        else:\n",
    "            word_scores[word] = 1\n",
    "\n",
    "sent_scores = []\n",
    "for cs, s in zip(cleared_sents, sents):\n",
    "    score = sum([word_scores[w] for w in cs])#/len(cs)\n",
    "    sent_scores.append((score,s))\n",
    "\n",
    "for s in sorted(sent_scores):\n",
    "    print(s)"
   ]
  },
  {
   "cell_type": "code",
   "execution_count": 38,
   "metadata": {},
   "outputs": [
    {
     "name": "stdout",
     "output_type": "stream",
     "text": [
      "85\n"
     ]
    },
    {
     "ename": "ValueError",
     "evalue": "negative row index found",
     "output_type": "error",
     "traceback": [
      "\u001b[0;31m---------------------------------------------------------------------------\u001b[0m",
      "\u001b[0;31mValueError\u001b[0m                                Traceback (most recent call last)",
      "\u001b[0;32m<ipython-input-38-ac82583fca85>\u001b[0m in \u001b[0;36m<module>\u001b[0;34m\u001b[0m\n\u001b[1;32m     10\u001b[0m \u001b[0mn\u001b[0m \u001b[0;34m=\u001b[0m \u001b[0mlen\u001b[0m\u001b[0;34m(\u001b[0m\u001b[0msents\u001b[0m\u001b[0;34m)\u001b[0m\u001b[0;34m\u001b[0m\u001b[0;34m\u001b[0m\u001b[0m\n\u001b[1;32m     11\u001b[0m \u001b[0mprint\u001b[0m\u001b[0;34m(\u001b[0m\u001b[0mn\u001b[0m\u001b[0;34m)\u001b[0m\u001b[0;34m\u001b[0m\u001b[0;34m\u001b[0m\u001b[0m\n\u001b[0;32m---> 12\u001b[0;31m \u001b[0mG\u001b[0m \u001b[0;34m=\u001b[0m \u001b[0msparse\u001b[0m\u001b[0;34m.\u001b[0m\u001b[0mcsr_matrix\u001b[0m\u001b[0;34m(\u001b[0m\u001b[0;34m(\u001b[0m\u001b[0mweights\u001b[0m\u001b[0;34m,\u001b[0m \u001b[0;34m(\u001b[0m\u001b[0msimilarities\u001b[0m\u001b[0;34m[\u001b[0m\u001b[0;34m:\u001b[0m\u001b[0;34m,\u001b[0m\u001b[0;36m0\u001b[0m\u001b[0;34m]\u001b[0m\u001b[0;34m,\u001b[0m \u001b[0msimilarities\u001b[0m\u001b[0;34m[\u001b[0m\u001b[0;34m:\u001b[0m\u001b[0;34m,\u001b[0m\u001b[0;36m1\u001b[0m\u001b[0;34m]\u001b[0m\u001b[0;34m)\u001b[0m\u001b[0;34m)\u001b[0m\u001b[0;34m,\u001b[0m \u001b[0mshape\u001b[0m\u001b[0;34m=\u001b[0m\u001b[0;34m(\u001b[0m\u001b[0mn\u001b[0m\u001b[0;34m,\u001b[0m\u001b[0mn\u001b[0m\u001b[0;34m)\u001b[0m\u001b[0;34m)\u001b[0m\u001b[0;34m\u001b[0m\u001b[0;34m\u001b[0m\u001b[0m\n\u001b[0m\u001b[1;32m     13\u001b[0m \u001b[0;31m#G = sparse.csr_matrix()\u001b[0m\u001b[0;34m\u001b[0m\u001b[0;34m\u001b[0m\u001b[0;34m\u001b[0m\u001b[0m\n\u001b[1;32m     14\u001b[0m \u001b[0mprint\u001b[0m\u001b[0;34m(\u001b[0m\u001b[0mdists\u001b[0m\u001b[0;34m)\u001b[0m\u001b[0;34m\u001b[0m\u001b[0;34m\u001b[0m\u001b[0m\n",
      "\u001b[0;32m~/.local/lib/python3.6/site-packages/scipy/sparse/compressed.py\u001b[0m in \u001b[0;36m__init__\u001b[0;34m(self, arg1, shape, dtype, copy)\u001b[0m\n\u001b[1;32m     55\u001b[0m                     \u001b[0;31m# (data, ij) format\u001b[0m\u001b[0;34m\u001b[0m\u001b[0;34m\u001b[0m\u001b[0;34m\u001b[0m\u001b[0m\n\u001b[1;32m     56\u001b[0m                     \u001b[0;32mfrom\u001b[0m \u001b[0;34m.\u001b[0m\u001b[0mcoo\u001b[0m \u001b[0;32mimport\u001b[0m \u001b[0mcoo_matrix\u001b[0m\u001b[0;34m\u001b[0m\u001b[0;34m\u001b[0m\u001b[0m\n\u001b[0;32m---> 57\u001b[0;31m                     \u001b[0mother\u001b[0m \u001b[0;34m=\u001b[0m \u001b[0mself\u001b[0m\u001b[0;34m.\u001b[0m\u001b[0m__class__\u001b[0m\u001b[0;34m(\u001b[0m\u001b[0mcoo_matrix\u001b[0m\u001b[0;34m(\u001b[0m\u001b[0marg1\u001b[0m\u001b[0;34m,\u001b[0m \u001b[0mshape\u001b[0m\u001b[0;34m=\u001b[0m\u001b[0mshape\u001b[0m\u001b[0;34m)\u001b[0m\u001b[0;34m)\u001b[0m\u001b[0;34m\u001b[0m\u001b[0;34m\u001b[0m\u001b[0m\n\u001b[0m\u001b[1;32m     58\u001b[0m                     \u001b[0mself\u001b[0m\u001b[0;34m.\u001b[0m\u001b[0m_set_self\u001b[0m\u001b[0;34m(\u001b[0m\u001b[0mother\u001b[0m\u001b[0;34m)\u001b[0m\u001b[0;34m\u001b[0m\u001b[0;34m\u001b[0m\u001b[0m\n\u001b[1;32m     59\u001b[0m                 \u001b[0;32melif\u001b[0m \u001b[0mlen\u001b[0m\u001b[0;34m(\u001b[0m\u001b[0marg1\u001b[0m\u001b[0;34m)\u001b[0m \u001b[0;34m==\u001b[0m \u001b[0;36m3\u001b[0m\u001b[0;34m:\u001b[0m\u001b[0;34m\u001b[0m\u001b[0;34m\u001b[0m\u001b[0m\n",
      "\u001b[0;32m~/.local/lib/python3.6/site-packages/scipy/sparse/coo.py\u001b[0m in \u001b[0;36m__init__\u001b[0;34m(self, arg1, shape, dtype, copy)\u001b[0m\n\u001b[1;32m    196\u001b[0m             \u001b[0mself\u001b[0m\u001b[0;34m.\u001b[0m\u001b[0mdata\u001b[0m \u001b[0;34m=\u001b[0m \u001b[0mself\u001b[0m\u001b[0;34m.\u001b[0m\u001b[0mdata\u001b[0m\u001b[0;34m.\u001b[0m\u001b[0mastype\u001b[0m\u001b[0;34m(\u001b[0m\u001b[0mdtype\u001b[0m\u001b[0;34m,\u001b[0m \u001b[0mcopy\u001b[0m\u001b[0;34m=\u001b[0m\u001b[0;32mFalse\u001b[0m\u001b[0;34m)\u001b[0m\u001b[0;34m\u001b[0m\u001b[0;34m\u001b[0m\u001b[0m\n\u001b[1;32m    197\u001b[0m \u001b[0;34m\u001b[0m\u001b[0m\n\u001b[0;32m--> 198\u001b[0;31m         \u001b[0mself\u001b[0m\u001b[0;34m.\u001b[0m\u001b[0m_check\u001b[0m\u001b[0;34m(\u001b[0m\u001b[0;34m)\u001b[0m\u001b[0;34m\u001b[0m\u001b[0;34m\u001b[0m\u001b[0m\n\u001b[0m\u001b[1;32m    199\u001b[0m \u001b[0;34m\u001b[0m\u001b[0m\n\u001b[1;32m    200\u001b[0m     \u001b[0;32mdef\u001b[0m \u001b[0mreshape\u001b[0m\u001b[0;34m(\u001b[0m\u001b[0mself\u001b[0m\u001b[0;34m,\u001b[0m \u001b[0;34m*\u001b[0m\u001b[0margs\u001b[0m\u001b[0;34m,\u001b[0m \u001b[0;34m**\u001b[0m\u001b[0mkwargs\u001b[0m\u001b[0;34m)\u001b[0m\u001b[0;34m:\u001b[0m\u001b[0;34m\u001b[0m\u001b[0;34m\u001b[0m\u001b[0m\n",
      "\u001b[0;32m~/.local/lib/python3.6/site-packages/scipy/sparse/coo.py\u001b[0m in \u001b[0;36m_check\u001b[0;34m(self)\u001b[0m\n\u001b[1;32m    287\u001b[0m                 \u001b[0;32mraise\u001b[0m \u001b[0mValueError\u001b[0m\u001b[0;34m(\u001b[0m\u001b[0;34m'column index exceeds matrix dimensions'\u001b[0m\u001b[0;34m)\u001b[0m\u001b[0;34m\u001b[0m\u001b[0;34m\u001b[0m\u001b[0m\n\u001b[1;32m    288\u001b[0m             \u001b[0;32mif\u001b[0m \u001b[0mself\u001b[0m\u001b[0;34m.\u001b[0m\u001b[0mrow\u001b[0m\u001b[0;34m.\u001b[0m\u001b[0mmin\u001b[0m\u001b[0;34m(\u001b[0m\u001b[0;34m)\u001b[0m \u001b[0;34m<\u001b[0m \u001b[0;36m0\u001b[0m\u001b[0;34m:\u001b[0m\u001b[0;34m\u001b[0m\u001b[0;34m\u001b[0m\u001b[0m\n\u001b[0;32m--> 289\u001b[0;31m                 \u001b[0;32mraise\u001b[0m \u001b[0mValueError\u001b[0m\u001b[0;34m(\u001b[0m\u001b[0;34m'negative row index found'\u001b[0m\u001b[0;34m)\u001b[0m\u001b[0;34m\u001b[0m\u001b[0;34m\u001b[0m\u001b[0m\n\u001b[0m\u001b[1;32m    290\u001b[0m             \u001b[0;32mif\u001b[0m \u001b[0mself\u001b[0m\u001b[0;34m.\u001b[0m\u001b[0mcol\u001b[0m\u001b[0;34m.\u001b[0m\u001b[0mmin\u001b[0m\u001b[0;34m(\u001b[0m\u001b[0;34m)\u001b[0m \u001b[0;34m<\u001b[0m \u001b[0;36m0\u001b[0m\u001b[0;34m:\u001b[0m\u001b[0;34m\u001b[0m\u001b[0;34m\u001b[0m\u001b[0m\n\u001b[1;32m    291\u001b[0m                 \u001b[0;32mraise\u001b[0m \u001b[0mValueError\u001b[0m\u001b[0;34m(\u001b[0m\u001b[0;34m'negative column index found'\u001b[0m\u001b[0;34m)\u001b[0m\u001b[0;34m\u001b[0m\u001b[0;34m\u001b[0m\u001b[0m\n",
      "\u001b[0;31mValueError\u001b[0m: negative row index found"
     ]
    }
   ],
   "source": [
    "from sklearn.metrics import pairwise_distances\n",
    "from scipy import sparse\n",
    "from fast_pagerank import pagerank\n",
    "from fast_pagerank import pagerank_power\n",
    "\n",
    "sents = list(nlp(txt).sents)\n",
    "vex = numpy.array([s.vector for s in sents])\n",
    "weights = [1 for s in sents]\n",
    "similarities = 1- pairwise_distances(vex, vex, metric=\"cosine\")\n",
    "n = len(sents)\n",
    "print(n)\n",
    "G = sparse.csr_matrix((weights, (similarities[:,0], similarities[:,1])), shape=(n,n))\n",
    "#G = sparse.csr_matrix()\n",
    "print(dists)\n",
    "pr = pagerank(G)\n",
    "rank = []\n",
    "for s, p in zip(sents, pr):\n",
    "    rank.append((p,s))\n",
    "\n",
    "srt = sorted(rank, reverse=True)"
   ]
  },
  {
   "cell_type": "code",
   "execution_count": 16,
   "metadata": {},
   "outputs": [
    {
     "name": "stdout",
     "output_type": "stream",
     "text": [
      "(55, 100)\n"
     ]
    }
   ],
   "source": [
    "med_sents = [s for s in sents if len(s) > 8 and len(s) < 25]\n",
    "vex = numpy.array([s.vector for s in med_sents])\n",
    "print(vex.shape)\n",
    "\n",
    "clusterer = KMeans(n_clusters = 8)\n",
    "labels = clusterer.fit_predict(vex)\n",
    "sents_by_label = {l: [s for i, s in enumerate(med_sents) if labels[i] == l] for l in set(labels)}"
   ]
  },
  {
   "cell_type": "code",
   "execution_count": null,
   "metadata": {},
   "outputs": [],
   "source": [
    "sents = "
   ]
  },
  {
   "cell_type": "code",
   "execution_count": 17,
   "metadata": {},
   "outputs": [
    {
     "name": "stdout",
     "output_type": "stream",
     "text": [
      "\n",
      "\n",
      "Gdy samica wchodzi w ruję, jej gruczoły zaczynają wydzielać intensywną woń.\n",
      "Samiec wyczuwa ją węchem, w czym pomaga mu narząd Jacobsona.\n",
      "Im dłużej lew wącha ten zapach, tym bardziej zmniejsza się jego agresja.\n",
      "\n",
      "\n",
      "\n",
      "\n",
      "Wielkość, liczba i zagęszczenie stad są uzależnione od dostępności pokarmu oraz liczebności lwów na danym obszarze.\n",
      "Każde stado ma swoją własną hierarchię, w której najsłabszy samiec ma rangę wyższą od samic.\n",
      "Wyjaśnieniem stadnego – nietypowego dla kotowatych – trybu życia mogą być dwie przyczyny: zwiększenie skuteczności pozyskiwania pokarmu oraz zwiększenie przeżywalności młodych.\n",
      "Większa skuteczność polowania w stadzie została wielokrotnie potwierdzona obserwacjami.\n",
      "Badacze podnoszą jednak argument, że w większym stadzie zdobycz dzielona jest pomiędzy wiele osobników.\n",
      "Mniejsza skuteczność lwa polującego samotnie nagradzana jest natomiast większą porcją posiłku, jaka mu pozostaje bez konieczności dzielenia się ze współbiesiadnikami.\n",
      "Wówczas siła samca jest niezbędna do przytrzymania, a następnie powalenia ofiary ataku.\n",
      "Skuteczność ataków zależy od zdobyczy, pory dnia, rodzaju terenu oraz umiejętności współpracy w stadzie.\n",
      "W zależności od terenu, upodobań oraz sposobu obrony stosowanego przez ofiarę lwy używają różnych technik łowieckich.\n",
      "\n",
      "\n",
      "\n",
      "\n",
      "Lwy jako jedyne kotowate żyją w grupach rodzinnych.\n",
      "Młode samice zwykle pozostają w stadzie na stałe, młode samce opuszczają stado po osiągnięciu dojrzałości płciowej.\n",
      "Wprawdzie większość lwów żyje w stadach, ale samotniczy tryb życia nie jest u nich rzadkością.\n",
      "Lwice wspólnie opiekują się wszystkimi młodymi ze stada, natomiast samiec chroniący terytorium i samic chroni jedynie swoje młode.\n",
      "W obronie stada przed intruzami lwice stają razem z samcami.\n",
      "Najsilniejsze samce występują do przodu, a reszta stada staje za nimi.\n",
      "Gdy brakuje pokarmu, zdarza im się napadać na zwierzęta hodowlane, zjadać gryzonie, ptaki czy padlinę, a nawet ludzi.\n",
      "Na terenach otwartych lwy najczęściej polują w nocy.\n",
      "Kilka samic chętnie współpracuje ze sobą na polowaniu.\n",
      "Młode lwy kierują upatrzoną zdobycz ku ukrytym w krzakach lub w trawie bardziej doświadczonym osobnikom, które powalają zwierzę.\n",
      "Większość ssaków kopytnych potrafi biegać szybciej niż lwy.\n",
      "Najsilniejszy lew zjada najwięcej, po nim pozostałe samce, później samice, a na końcu młode.\n",
      "Najmniejszą śmiertelność wśród młodych uzyskują samice rodzące w zbliżonym czasie, wspólnie opiekujące się młodymi i wspólnie je karmiące.\n",
      "Notowano pojedyncze przypadki 16-letnich samców żyjących na wolności.\n",
      "\n",
      "\n",
      "\n",
      "\n",
      "Większość czasu spędzają odpoczywając – do 20 godzin w ciągu doby.\n",
      "Ten proces trwa od trzech do pięciu dni.\n",
      "Do ósmego tygodnia życia matka trzyma je w ukryciu.\n",
      "Jeśli wcześniej nie zginą w walce, mogą dożyć wieku ponad 10 lat.\n",
      "Przeciętny wiek życia w niewoli wynosi 13 lat.\n",
      "\n",
      "\n",
      "\n",
      "\n",
      "Jeśli przewodzący samiec zostanie pokonany przez innego, odchodzi od stada i z reguły już nigdy do niego nie wraca.\n",
      "Tam, gdzie są wysokie trawy lub gęste krzewy, polowania zdarzają się również w ciągu dnia.\n",
      "Przyłączają się do łowów na dużego zwierza, takiego jak bawoły.\n",
      "Część z nich czeka, aż pozostałe nagonią zdobycz w ich stronę, wtedy zaczyna się atak.\n",
      "Podstawowa technika polega na spłoszeniu ofiary i zagonieniu jej do pułapki.\n",
      "Lwy, wykorzystując przewagę liczebną, często odbierają zdobycz innym drapieżnikom – gepardom, hienom, lampartom i likaonom.\n",
      "Samica wybiera partnera spośród dorosłych lwów ze stada, a następnie oddala się z nim na kilka dni.\n",
      "Przez ten czas para kopuluje kilkadziesiąt razy dziennie, w przerwach liżąc się i łasząc do siebie.\n",
      "Równocześnie prowadzą go do swojego legowiska, gdzie stężenie zapachu jest bardzo silne.\n",
      "Potem dzieci, dobrze ukryte, są już bezpieczne.\n",
      "\n",
      "\n",
      "\n",
      "\n",
      "Większość stad liczy od 2 do 12 dorosłych osobników.\n",
      "W przypadku gazel skuteczność polowania wynosi ok. 14%, gnu i zebr 38%, a guźców 48%.\n",
      "Polowanie nocne charakteryzuje się 33% skutecznością, dzienne 21%.\n",
      "Przeciętnie tylko 12 procent takich polowań kończy się sukcesem, a w buszu 41 procent.\n",
      "Dzienne zapotrzebowanie pokarmowe dorosłego samca sięga 7 kg, a samicy 5 kg mięsa.\n",
      "Małe lwy rodzą się ślepe, ich oczy otwierają się około 3–11 dnia.\n",
      "Lwy zaczynają polować w wieku 11 miesięcy, po kolejnych 5 miesiącach są już w pełni samodzielne.\n",
      "Lwia grzywa zaczyna rosnąć w wieku 2 lat.\n",
      "Samce są dojrzałe płciowo po 2,5 roku, samice w wieku 2,5–4 lat.\n",
      "Taki wiek, 15–16 lat, dla samic jest natomiast wiekiem przeciętnym.\n",
      "W Parku Serengeti samice żyją do 18 lat.\n",
      "\n",
      "\n",
      "\n",
      "\n",
      "Lwy zabijają, przewracając ofiarę na ziemię i dusząc ją, trzymając zwierzę za pysk lub zaciskając zęby na gardle.\n",
      "Podczas samej kopulacji samica leży, a samiec kuca nad nią, przytrzymując partnerkę zębami za kark.\n",
      "\n",
      "\n",
      "\n",
      "\n",
      "Najnowsze badania wykazują, że lwice mogą się temu zjawisku przeciwstawić.\n",
      "\n",
      "\n"
     ]
    }
   ],
   "source": [
    "for l in set(labels):\n",
    "    print(\"\\n\")\n",
    "    for s in sents_by_label[l]:\n",
    "        print(s)\n",
    "    print(\"\\n\")"
   ]
  },
  {
   "cell_type": "code",
   "execution_count": null,
   "metadata": {},
   "outputs": [],
   "source": []
  }
 ],
 "metadata": {
  "colab": {
   "collapsed_sections": [
    "zquQAX2HGVpg",
    "PuPWYncPLyK4",
    "noq6HpCgY4q2",
    "yev0e8lQmwMm",
    "E6d5JbrSsnhm",
    "_4a5Izt4Tsae"
   ],
   "name": "Copy of Copy of Copy of Copy of Copy of Gdańsk.ipynb",
   "provenance": [
    {
     "file_id": "1MWiYw3ugMhpq38tBhkbWi1ZMLHU17IqZ",
     "timestamp": 1594737900299
    },
    {
     "file_id": "1lfYKkZyhW-hfQ6b0qsXxrVTjGquz8Qdn",
     "timestamp": 1594727658531
    },
    {
     "file_id": "1onFhNTAHRwnqjbCsYx1BdgoE76O5Ssix",
     "timestamp": 1594667047412
    },
    {
     "file_id": "1APwoUXjdVCZQVF6B1zMJUy5VZPQU1m43",
     "timestamp": 1594650744668
    },
    {
     "file_id": "https://github.com/ryszardtuora/webinar_resources/blob/master/Gda%C5%84sk.ipynb",
     "timestamp": 1594596301441
    }
   ]
  },
  "kernelspec": {
   "display_name": "Python 3",
   "language": "python",
   "name": "python3"
  },
  "language_info": {
   "codemirror_mode": {
    "name": "ipython",
    "version": 3
   },
   "file_extension": ".py",
   "mimetype": "text/x-python",
   "name": "python",
   "nbconvert_exporter": "python",
   "pygments_lexer": "ipython3",
   "version": "3.6.9"
  }
 },
 "nbformat": 4,
 "nbformat_minor": 1
}
